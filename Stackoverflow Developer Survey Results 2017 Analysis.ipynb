{
 "cells": [
  {
   "cell_type": "code",
   "execution_count": 1,
   "metadata": {},
   "outputs": [],
   "source": [
    "import numpy as np\n",
    "import pandas as pd\n",
    "import matplotlib as mpl\n",
    "import matplotlib.pyplot as plt\n",
    "%matplotlib inline"
   ]
  },
  {
   "cell_type": "code",
   "execution_count": 2,
   "metadata": {},
   "outputs": [],
   "source": [
    "data=pd.read_csv('survey_results_public.csv')"
   ]
  },
  {
   "cell_type": "code",
   "execution_count": 3,
   "metadata": {},
   "outputs": [
    {
     "name": "stdout",
     "output_type": "stream",
     "text": [
      "                          Column  \\\n",
      "0                     Respondent   \n",
      "1                   Professional   \n",
      "2                   ProgramHobby   \n",
      "3                        Country   \n",
      "4                     University   \n",
      "5               EmploymentStatus   \n",
      "6                FormalEducation   \n",
      "7                 MajorUndergrad   \n",
      "8                     HomeRemote   \n",
      "9                    CompanySize   \n",
      "10                   CompanyType   \n",
      "11                  YearsProgram   \n",
      "12                 YearsCodedJob   \n",
      "13             YearsCodedJobPast   \n",
      "14                 DeveloperType   \n",
      "15              WebDeveloperType   \n",
      "16           MobileDeveloperType   \n",
      "17              NonDeveloperType   \n",
      "18            CareerSatisfaction   \n",
      "19               JobSatisfaction   \n",
      "20                 ExCoderReturn   \n",
      "21               ExCoderNotForMe   \n",
      "22                ExCoderBalance   \n",
      "23                ExCoder10Years   \n",
      "24               ExCoderBelonged   \n",
      "25                 ExCoderSkills   \n",
      "26            ExCoderWillNotCode   \n",
      "27                 ExCoderActive   \n",
      "28                  PronounceGIF   \n",
      "29                ProblemSolving   \n",
      "..                           ...   \n",
      "124         InfluenceRecruitment   \n",
      "125       InfluenceCommunication   \n",
      "126       StackOverflowDescribes   \n",
      "127    StackOverflowSatisfaction   \n",
      "128         StackOverflowDevices   \n",
      "129     StackOverflowFoundAnswer   \n",
      "130      StackOverflowCopiedCode   \n",
      "131      StackOverflowJobListing   \n",
      "132     StackOverflowCompanyPage   \n",
      "133       StackOverflowJobSearch   \n",
      "134     StackOverflowNewQuestion   \n",
      "135          StackOverflowAnswer   \n",
      "136        StackOverflowMetaChat   \n",
      "137     StackOverflowAdsRelevant   \n",
      "138  StackOverflowAdsDistracting   \n",
      "139      StackOverflowModeration   \n",
      "140       StackOverflowCommunity   \n",
      "141         StackOverflowHelpful   \n",
      "142          StackOverflowBetter   \n",
      "143          StackOverflowWhatDo   \n",
      "144       StackOverflowMakeMoney   \n",
      "145                       Gender   \n",
      "146      HighestEducationParents   \n",
      "147                         Race   \n",
      "148                   SurveyLong   \n",
      "149         QuestionsInteresting   \n",
      "150           QuestionsConfusing   \n",
      "151            InterestedAnswers   \n",
      "152                       Salary   \n",
      "153               ExpectedSalary   \n",
      "\n",
      "                                              Question  \n",
      "0                                 Respondent ID number  \n",
      "1           Which of the following best describes you?  \n",
      "2    Do you program as a hobby or contribute to ope...  \n",
      "3              In which country do you currently live?  \n",
      "4    Are you currently enrolled in a formal, degree...  \n",
      "5    Which of the following best describes your cur...  \n",
      "6    Which of the following best describes the high...  \n",
      "7    Which of the following best describes your mai...  \n",
      "8         How often do you work from home or remotely?  \n",
      "9    In terms of the number of employees, how large...  \n",
      "10   Which of the following best describes the type...  \n",
      "11   How long has it been since you first learned h...  \n",
      "12   For how many years have you coded as part of y...  \n",
      "13   For how many years did you code as part of you...  \n",
      "14           Which of the following best describe you?  \n",
      "15   Which of the following best describes you as a...  \n",
      "16   For which of the following platforms do you de...  \n",
      "17                Which of the following describe you?  \n",
      "18                          Career satisfaction rating  \n",
      "19                             Job satisfaction rating  \n",
      "20   You said before that you used to code as part ...  \n",
      "21   You said before that you used to code as part ...  \n",
      "22   You said before that you used to code as part ...  \n",
      "23   You said before that you used to code as part ...  \n",
      "24   You said before that you used to code as part ...  \n",
      "25   You said before that you used to code as part ...  \n",
      "26   You said before that you used to code as part ...  \n",
      "27   You said before that you used to code as part ...  \n",
      "28                         How do you pronounce \"GIF\"?  \n",
      "29                             I love solving problems  \n",
      "..                                                 ...  \n",
      "124  How much influence do you have on purchasing d...  \n",
      "125  How much influence do you have on purchasing d...  \n",
      "126         Which of the following best describes you?  \n",
      "127                        Stack Overflow satisfaction  \n",
      "128  Which of the following devices have you used t...  \n",
      "129  Over the last three months, approximately how ...  \n",
      "130  Over the last three months, approximately how ...  \n",
      "131  Over the last three months, approximately how ...  \n",
      "132  Over the last three months, approximately how ...  \n",
      "133  Over the last three months, approximately how ...  \n",
      "134  Over the last three months, approximately how ...  \n",
      "135  Over the last three months, approximately how ...  \n",
      "136  Over the last three months, approximately how ...  \n",
      "137       The ads on Stack Overflow are relevant to me  \n",
      "138          The ads on Stack Overflow are distracting  \n",
      "139         The moderation on Stack Overflow is unfair  \n",
      "140  I feel like a member of the Stack Overflow com...  \n",
      "141  The answers and code examples I get on Stack O...  \n",
      "142   Stack Overflow makes the Internet a better place  \n",
      "143    I don't know what I'd do without Stack Overflow  \n",
      "144  The people who run Stack Overflow are just in ...  \n",
      "145  Which of the following do you currently identi...  \n",
      "146  What is the highest level of education receive...  \n",
      "147         Which of the following do you identify as?  \n",
      "148                           This survey was too long  \n",
      "149                     The questions were interesting  \n",
      "150                       The questions were confusing  \n",
      "151  I'm interested in learning how other developer...  \n",
      "152  What is your current annual base salary, befor...  \n",
      "153  You said before that you are currently learnin...  \n",
      "\n",
      "[154 rows x 2 columns]\n"
     ]
    }
   ],
   "source": [
    "print(pd.read_csv('survey_results_schema.csv'))"
   ]
  },
  {
   "cell_type": "code",
   "execution_count": 4,
   "metadata": {},
   "outputs": [],
   "source": [
    "df=pd.DataFrame(data)"
   ]
  },
  {
   "cell_type": "markdown",
   "metadata": {},
   "source": [
    "# Top 10 countries"
   ]
  },
  {
   "cell_type": "code",
   "execution_count": 42,
   "metadata": {
    "scrolled": true
   },
   "outputs": [
    {
     "name": "stdout",
     "output_type": "stream",
     "text": [
      "Country \t Number of users\n",
      "United States         11455\n",
      "India                  5197\n",
      "United Kingdom         4395\n",
      "Germany                4143\n",
      "Canada                 2233\n",
      "France                 1740\n",
      "Poland                 1290\n",
      "Australia               913\n",
      "Russian Federation      873\n",
      "Spain                   864\n",
      "Name: Country, dtype: int64\n"
     ]
    }
   ],
   "source": [
    "print(\"Country \\t Number of users\")\n",
    "print(df['Country'].value_counts().nlargest(10))"
   ]
  },
  {
   "cell_type": "markdown",
   "metadata": {},
   "source": [
    "# University students"
   ]
  },
  {
   "cell_type": "code",
   "execution_count": 6,
   "metadata": {},
   "outputs": [],
   "source": [
    "university=((df['University'].value_counts()/len(df)*100).values.reshape([-1,1]))\n",
    "university=list(university)\n",
    "for i in range(0,len(university)):\n",
    "    university[i]=float(university[i])"
   ]
  },
  {
   "cell_type": "code",
   "execution_count": 45,
   "metadata": {},
   "outputs": [
    {
     "data": {
      "image/png": "[encoded data removed]",
      "text/plain": [
       "<Figure size 432x288 with 1 Axes>"
      ]
     },
     "metadata": {},
     "output_type": "display_data"
    }
   ],
   "source": [
    "plt.bar(df['University'].unique(),university)\n",
    "plt.xlabel(\"University status\")\n",
    "plt.ylabel(\"Percentage\")\n",
    "plt.show()"
   ]
  },
  {
   "cell_type": "markdown",
   "metadata": {},
   "source": [
    "# Professions of Stackoverflow users"
   ]
  },
  {
   "cell_type": "code",
   "execution_count": 8,
   "metadata": {},
   "outputs": [],
   "source": [
    "profession=((df['Professional'].value_counts()/len(df)*100).values.reshape([-1,1]))\n",
    "profession=list(profession)\n",
    "for i in range(0,len(profession)):\n",
    "    profession[i]=float(profession[i])"
   ]
  },
  {
   "cell_type": "code",
   "execution_count": 46,
   "metadata": {},
   "outputs": [
    {
     "data": {
      "image/png": "[encoded data removed]",
      "text/plain": [
       "<Figure size 1080x360 with 1 Axes>"
      ]
     },
     "metadata": {},
     "output_type": "display_data"
    }
   ],
   "source": [
    "plt.figure(figsize=(15,5))\n",
    "plt.bar(['Student', 'Developer', 'Non-developer','Former developer', 'None of these'],profession)\n",
    "plt.xlabel(\"Profession\")\n",
    "plt.ylabel(\"Percentage\")\n",
    "plt.show()"
   ]
  },
  {
   "cell_type": "markdown",
   "metadata": {},
   "source": [
    "# Web developer stats"
   ]
  },
  {
   "cell_type": "code",
   "execution_count": 47,
   "metadata": {},
   "outputs": [
    {
     "data": {
      "image/png": "[encoded data removed]",
      "text/plain": [
       "<Figure size 648x288 with 1 Axes>"
      ]
     },
     "metadata": {},
     "output_type": "display_data"
    }
   ],
   "source": [
    "webtype=((df['WebDeveloperType'].dropna().value_counts()/len(df['WebDeveloperType'].dropna())*100).values.reshape([-1,1]))\n",
    "webtype=list(webtype)\n",
    "for i in range(0,len(webtype)):\n",
    "    webtype[i]=float(webtype[i])\n",
    "plt.figure(figsize=(9,4))\n",
    "plt.bar(df['WebDeveloperType'].dropna().unique(),webtype)\n",
    "plt.xlabel(\"Web Developer Type\")\n",
    "plt.ylabel(\"Percentage\")\n",
    "plt.show()"
   ]
  },
  {
   "cell_type": "markdown",
   "metadata": {},
   "source": [
    "# Mobiles developer stats"
   ]
  },
  {
   "cell_type": "code",
   "execution_count": 48,
   "metadata": {},
   "outputs": [
    {
     "data": {
      "image/png": "[encoded data removed]",
      "text/plain": [
       "<Figure size 1080x288 with 1 Axes>"
      ]
     },
     "metadata": {},
     "output_type": "display_data"
    }
   ],
   "source": [
    "mobtype=((df['MobileDeveloperType'].dropna().value_counts()/len(df['MobileDeveloperType'].dropna())*100).values.reshape([-1,1]))\n",
    "mobtype=list(mobtype)\n",
    "for i in range(0,len(mobtype)):\n",
    "    mobtype[i]=float(mobtype[i])\n",
    "mobtype[:3].append(100-np.sum(mobtype[:3]))   \n",
    "plt.figure(figsize=(15,4))\n",
    "plt.bar(np.append(df['MobileDeveloperType'].dropna().unique()[:3],'Other/multiple'),mobtype[:4])\n",
    "plt.xlabel(\"Mobile Developer Type\")\n",
    "plt.ylabel(\"Percentage\")\n",
    "plt.show()"
   ]
  },
  {
   "cell_type": "markdown",
   "metadata": {},
   "source": [
    "# Satisfaction with Stackoverflow"
   ]
  },
  {
   "cell_type": "code",
   "execution_count": 49,
   "metadata": {},
   "outputs": [
    {
     "data": {
      "image/png": "[encoded data removed]",
      "text/plain": [
       "<Figure size 1080x288 with 1 Axes>"
      ]
     },
     "metadata": {},
     "output_type": "display_data"
    }
   ],
   "source": [
    "satisfaction=((df['StackOverflowSatisfaction'].dropna().value_counts()/len(df['StackOverflowSatisfaction'].dropna())*100).values.reshape([-1,1]))\n",
    "satisfaction=list(satisfaction)\n",
    "for i in range(0,len(satisfaction)):\n",
    "    satisfaction[i]=float(satisfaction[i])\n",
    "plt.figure(figsize=(15,4))\n",
    "plt.bar(df['StackOverflowSatisfaction'].dropna().unique(),satisfaction)\n",
    "plt.xlabel(\"Satisfaction measure of users\")\n",
    "plt.ylabel(\"Percentage\")\n",
    "plt.show()"
   ]
  },
  {
   "cell_type": "code",
   "execution_count": 55,
   "metadata": {},
   "outputs": [
    {
     "data": {
      "text/plain": [
       "array([\"I'm not actively looking, but I am open to new opportunities\",\n",
       "       'I am actively looking for a job',\n",
       "       'I am not interested in new job opportunities'], dtype=object)"
      ]
     },
     "execution_count": 55,
     "metadata": {},
     "output_type": "execute_result"
    }
   ],
   "source": []
  },
  {
   "cell_type": "markdown",
   "metadata": {},
   "source": [
    "# Job status"
   ]
  },
  {
   "cell_type": "code",
   "execution_count": 56,
   "metadata": {},
   "outputs": [
    {
     "data": {
      "image/png": "[encoded data removed]",
      "text/plain": [
       "<Figure size 1080x288 with 1 Axes>"
      ]
     },
     "metadata": {},
     "output_type": "display_data"
    }
   ],
   "source": [
    "job=((df['JobSeekingStatus'].dropna().value_counts()/len(df['JobSeekingStatus'].dropna())*100).values.reshape([-1,1]))\n",
    "job=list(job)\n",
    "for i in range(0,len(job)):\n",
    "    job[i]=float(job[i])\n",
    "plt.figure(figsize=(15,4))\n",
    "plt.bar(df['JobSeekingStatus'].dropna().unique(),job)\n",
    "plt.xlabel(\"Job status of users\")\n",
    "plt.ylabel(\"Percentage\")\n",
    "plt.show()"
   ]
  },
  {
   "cell_type": "markdown",
   "metadata": {},
   "source": [
    "# Version Control Used"
   ]
  },
  {
   "cell_type": "code",
   "execution_count": 67,
   "metadata": {},
   "outputs": [
    {
     "data": {
      "image/png": "[encoded data removed]",
      "text/plain": [
       "<Figure size 1080x288 with 1 Axes>"
      ]
     },
     "metadata": {},
     "output_type": "display_data"
    }
   ],
   "source": [
    "vc=((df['VersionControl'].dropna().value_counts()/len(df['VersionControl'].dropna())*100).values.reshape([-1,1]))\n",
    "vc=list(vc)\n",
    "for i in range(0,len(vc)):\n",
    "    vc[i]=float(vc[i])\n",
    "plt.figure(figsize=(15,4))\n",
    "plt.barh(df['VersionControl'].dropna().unique(),vc)\n",
    "plt.ylabel(\"Version Control system used\")\n",
    "plt.xlabel(\"Percentage\")\n",
    "plt.show()"
   ]
  },
  {
   "cell_type": "code",
   "execution_count": 70,
   "metadata": {},
   "outputs": [
    {
     "data": {
      "text/plain": [
       "array([nan, 'MySQL; SQLite', 'MySQL',\n",
       "       'MongoDB; Redis; SQL Server; MySQL; SQLite', 'SQLite',\n",
       "       'Redis; MySQL; PostgreSQL', 'SQL Server', 'PostgreSQL',\n",
       "       'MySQL; PostgreSQL; Oracle', 'Cassandra; MySQL', 'MongoDB; MySQL',\n",
       "       'MongoDB', 'Cassandra; MongoDB; Redis; SQL Server; PostgreSQL',\n",
       "       'SQL Server; SQLite', 'MongoDB; SQL Server; MySQL',\n",
       "       'SQL Server; MySQL; Oracle',\n",
       "       'MongoDB; Redis; MySQL; PostgreSQL; SQLite',\n",
       "       'MongoDB; SQL Server; Oracle',\n",
       "       'MongoDB; PostgreSQL; Oracle; SQLite', 'Redis; MySQL',\n",
       "       'Redis; SQL Server; MySQL', 'MongoDB; Redis; MySQL; SQLite',\n",
       "       'SQL Server; MySQL',\n",
       "       'MongoDB; SQL Server; MySQL; PostgreSQL; Oracle; SQLite',\n",
       "       'SQL Server; MySQL; PostgreSQL; Oracle; SQLite',\n",
       "       'MongoDB; Redis; MySQL', 'Redis; PostgreSQL',\n",
       "       'Redis; PostgreSQL; SQLite', 'Cassandra', 'PostgreSQL; SQLite',\n",
       "       'MySQL; Oracle; SQLite',\n",
       "       'MongoDB; SQL Server; MySQL; PostgreSQL; SQLite',\n",
       "       'MongoDB; Redis; PostgreSQL', 'Oracle', 'MySQL; Oracle',\n",
       "       'SQL Server; MySQL; SQLite', 'Cassandra; Redis; MySQL',\n",
       "       'Redis; SQL Server', 'Redis; MySQL; SQLite',\n",
       "       'MongoDB; Redis; SQL Server; MySQL; PostgreSQL; Oracle',\n",
       "       'MySQL; PostgreSQL', 'SQL Server; Oracle',\n",
       "       'Redis; MySQL; PostgreSQL; SQLite', 'Redis',\n",
       "       'MongoDB; Redis; MySQL; PostgreSQL', 'Redis; SQL Server; Oracle',\n",
       "       'MongoDB; Redis', 'MongoDB; SQL Server; SQLite',\n",
       "       'Cassandra; Redis; PostgreSQL', 'PostgreSQL; Oracle; SQLite',\n",
       "       'MongoDB; MySQL; PostgreSQL', 'MySQL; PostgreSQL; SQLite',\n",
       "       'MongoDB; PostgreSQL', 'Redis; SQL Server; MySQL; PostgreSQL',\n",
       "       'Cassandra; PostgreSQL; Oracle',\n",
       "       'MongoDB; Redis; SQL Server; PostgreSQL; Oracle',\n",
       "       'MongoDB; MySQL; Oracle', 'MongoDB; SQL Server',\n",
       "       'MongoDB; MySQL; SQLite', 'Redis; SQL Server; PostgreSQL; SQLite',\n",
       "       'MongoDB; SQL Server; PostgreSQL',\n",
       "       'MongoDB; SQL Server; MySQL; SQLite',\n",
       "       'MySQL; PostgreSQL; Oracle; SQLite',\n",
       "       'SQL Server; MySQL; PostgreSQL; Oracle',\n",
       "       'SQL Server; MySQL; PostgreSQL', 'MongoDB; Redis; SQL Server',\n",
       "       'SQL Server; PostgreSQL; Oracle; SQLite', 'SQL Server; PostgreSQL',\n",
       "       'Cassandra; SQL Server; SQLite',\n",
       "       'SQL Server; MySQL; PostgreSQL; SQLite', 'Cassandra; PostgreSQL',\n",
       "       'Cassandra; Redis', 'MongoDB; SQL Server; MySQL; PostgreSQL',\n",
       "       'MongoDB; Oracle', 'PostgreSQL; Oracle',\n",
       "       'SQL Server; PostgreSQL; Oracle',\n",
       "       'Redis; SQL Server; MySQL; Oracle; SQLite',\n",
       "       'Cassandra; SQL Server; PostgreSQL',\n",
       "       'Redis; SQL Server; PostgreSQL',\n",
       "       'MongoDB; Redis; SQL Server; SQLite', 'MongoDB; SQLite',\n",
       "       'SQL Server; MySQL; Oracle; SQLite', 'SQL Server; Oracle; SQLite',\n",
       "       'Oracle; SQLite', 'MongoDB; Redis; SQL Server; MySQL',\n",
       "       'MongoDB; Redis; SQL Server; MySQL; PostgreSQL; Oracle; SQLite',\n",
       "       'Cassandra; MongoDB; SQL Server; MySQL',\n",
       "       'Cassandra; SQL Server; MySQL; PostgreSQL',\n",
       "       'MongoDB; Redis; SQL Server; MySQL; Oracle',\n",
       "       'Redis; SQL Server; MySQL; SQLite',\n",
       "       'MongoDB; Redis; SQL Server; PostgreSQL',\n",
       "       'Cassandra; SQL Server; MySQL', 'Cassandra; MongoDB',\n",
       "       'MongoDB; Redis; SQL Server; MySQL; PostgreSQL',\n",
       "       'MongoDB; PostgreSQL; SQLite',\n",
       "       'Redis; SQL Server; MySQL; PostgreSQL; SQLite',\n",
       "       'Cassandra; MongoDB; Redis; MySQL; Oracle',\n",
       "       'SQL Server; PostgreSQL; SQLite',\n",
       "       'MongoDB; SQL Server; PostgreSQL; SQLite',\n",
       "       'MongoDB; MySQL; PostgreSQL; Oracle; SQLite',\n",
       "       'MongoDB; Redis; SQLite', 'Cassandra; SQLite', 'Redis; SQLite',\n",
       "       'Cassandra; MongoDB; Redis; MySQL; PostgreSQL; Oracle; SQLite',\n",
       "       'Cassandra; Redis; MySQL; PostgreSQL; SQLite',\n",
       "       'Cassandra; SQL Server',\n",
       "       'Cassandra; SQL Server; MySQL; PostgreSQL; SQLite',\n",
       "       'MongoDB; Redis; SQL Server; PostgreSQL; SQLite',\n",
       "       'MongoDB; SQL Server; PostgreSQL; Oracle',\n",
       "       'MongoDB; MySQL; PostgreSQL; SQLite',\n",
       "       'MongoDB; Redis; PostgreSQL; SQLite', 'Redis; Oracle',\n",
       "       'Cassandra; Redis; SQL Server', 'Cassandra; MongoDB; MySQL',\n",
       "       'Cassandra; MongoDB; MySQL; PostgreSQL; SQLite',\n",
       "       'MongoDB; Redis; Oracle', 'Cassandra; MongoDB; SQL Server',\n",
       "       'Redis; MySQL; Oracle', 'MongoDB; PostgreSQL; Oracle',\n",
       "       'Cassandra; MongoDB; MySQL; PostgreSQL; Oracle; SQLite',\n",
       "       'Redis; PostgreSQL; Oracle', 'Redis; SQL Server; Oracle; SQLite',\n",
       "       'MongoDB; SQL Server; MySQL; PostgreSQL; Oracle',\n",
       "       'Redis; SQL Server; MySQL; PostgreSQL; Oracle; SQLite',\n",
       "       'Cassandra; MongoDB; Redis; MySQL', 'Cassandra; Oracle',\n",
       "       'Redis; MySQL; PostgreSQL; Oracle; SQLite',\n",
       "       'Cassandra; MongoDB; MySQL; PostgreSQL',\n",
       "       'MongoDB; MySQL; PostgreSQL; Oracle',\n",
       "       'Redis; SQL Server; MySQL; Oracle',\n",
       "       'Cassandra; MongoDB; Redis; MySQL; PostgreSQL',\n",
       "       'MongoDB; SQL Server; MySQL; Oracle; SQLite',\n",
       "       'Redis; SQL Server; SQLite',\n",
       "       'Cassandra; Redis; SQL Server; MySQL; SQLite',\n",
       "       'Redis; MySQL; Oracle; SQLite', 'Cassandra; MySQL; PostgreSQL',\n",
       "       'MongoDB; Redis; SQL Server; MySQL; PostgreSQL; SQLite',\n",
       "       'Cassandra; Redis; MySQL; PostgreSQL',\n",
       "       'MongoDB; Redis; MySQL; Oracle',\n",
       "       'Cassandra; MongoDB; MySQL; Oracle',\n",
       "       'Cassandra; MongoDB; Redis; SQL Server; MySQL; PostgreSQL; Oracle; SQLite',\n",
       "       'Cassandra; SQL Server; MySQL; PostgreSQL; Oracle',\n",
       "       'Cassandra; MongoDB; Redis; SQL Server; MySQL; PostgreSQL; SQLite',\n",
       "       'Redis; PostgreSQL; Oracle; SQLite',\n",
       "       'Cassandra; MongoDB; Redis; SQL Server',\n",
       "       'MongoDB; Redis; SQL Server; Oracle',\n",
       "       'Cassandra; MongoDB; SQL Server; MySQL; PostgreSQL; Oracle',\n",
       "       'Cassandra; MySQL; Oracle', 'Cassandra; MongoDB; PostgreSQL',\n",
       "       'Cassandra; MongoDB; SQL Server; MySQL; Oracle',\n",
       "       'Cassandra; MongoDB; Redis; PostgreSQL',\n",
       "       'Cassandra; MongoDB; Redis; MySQL; PostgreSQL; Oracle',\n",
       "       'Cassandra; MongoDB; Oracle', 'Cassandra; MySQL; SQLite',\n",
       "       'Cassandra; PostgreSQL; SQLite',\n",
       "       'Cassandra; SQL Server; MySQL; PostgreSQL; Oracle; SQLite',\n",
       "       'Redis; MySQL; PostgreSQL; Oracle',\n",
       "       'MongoDB; Redis; MySQL; PostgreSQL; Oracle; SQLite',\n",
       "       'Cassandra; MongoDB; MySQL; PostgreSQL; Oracle',\n",
       "       'Cassandra; Redis; SQLite',\n",
       "       'Cassandra; SQL Server; MySQL; Oracle; SQLite',\n",
       "       'Cassandra; MySQL; PostgreSQL; SQLite',\n",
       "       'MongoDB; SQL Server; Oracle; SQLite',\n",
       "       'Cassandra; MongoDB; Redis; SQL Server; MySQL; SQLite',\n",
       "       'Cassandra; MongoDB; SQL Server; MySQL; PostgreSQL; Oracle; SQLite',\n",
       "       'Cassandra; MongoDB; SQLite',\n",
       "       'Cassandra; Redis; SQL Server; MySQL; PostgreSQL; SQLite',\n",
       "       'Cassandra; MongoDB; Redis', 'Cassandra; MongoDB; MySQL; SQLite',\n",
       "       'MongoDB; MySQL; Oracle; SQLite',\n",
       "       'Cassandra; Redis; SQL Server; MySQL',\n",
       "       'MongoDB; Redis; SQL Server; MySQL; Oracle; SQLite',\n",
       "       'Cassandra; Redis; PostgreSQL; SQLite',\n",
       "       'Cassandra; MongoDB; Redis; SQL Server; MySQL; PostgreSQL; Oracle',\n",
       "       'MongoDB; Redis; SQL Server; PostgreSQL; Oracle; SQLite',\n",
       "       'Cassandra; Redis; SQL Server; Oracle', 'MongoDB; Oracle; SQLite',\n",
       "       'Cassandra; SQL Server; PostgreSQL; Oracle; SQLite',\n",
       "       'MongoDB; Redis; MySQL; PostgreSQL; Oracle',\n",
       "       'Cassandra; SQL Server; MySQL; Oracle',\n",
       "       'Cassandra; SQL Server; Oracle',\n",
       "       'MongoDB; SQL Server; MySQL; Oracle',\n",
       "       'Cassandra; Redis; SQL Server; MySQL; PostgreSQL; Oracle',\n",
       "       'Cassandra; MongoDB; Redis; PostgreSQL; SQLite',\n",
       "       'Cassandra; Redis; MySQL; SQLite',\n",
       "       'Cassandra; Redis; SQL Server; SQLite',\n",
       "       'Cassandra; Redis; PostgreSQL; Oracle',\n",
       "       'Cassandra; MongoDB; Redis; SQL Server; PostgreSQL; SQLite',\n",
       "       'Redis; SQL Server; MySQL; PostgreSQL; Oracle',\n",
       "       'Cassandra; MongoDB; Redis; MySQL; PostgreSQL; SQLite',\n",
       "       'MongoDB; Redis; PostgreSQL; Oracle',\n",
       "       'Cassandra; MongoDB; SQL Server; Oracle',\n",
       "       'Cassandra; MongoDB; Redis; MySQL; SQLite',\n",
       "       'Cassandra; SQL Server; PostgreSQL; Oracle',\n",
       "       'Cassandra; MongoDB; SQL Server; SQLite',\n",
       "       'Cassandra; Redis; SQL Server; PostgreSQL',\n",
       "       'Cassandra; Redis; SQL Server; PostgreSQL; Oracle',\n",
       "       'Cassandra; MongoDB; PostgreSQL; SQLite',\n",
       "       'Cassandra; MySQL; PostgreSQL; Oracle; SQLite',\n",
       "       'Cassandra; SQL Server; MySQL; SQLite',\n",
       "       'Cassandra; PostgreSQL; Oracle; SQLite',\n",
       "       'Redis; SQL Server; PostgreSQL; Oracle',\n",
       "       'MongoDB; SQL Server; PostgreSQL; Oracle; SQLite',\n",
       "       'Cassandra; MongoDB; SQL Server; MySQL; PostgreSQL',\n",
       "       'Cassandra; MongoDB; PostgreSQL; Oracle',\n",
       "       'Cassandra; Redis; Oracle', 'Cassandra; MongoDB; Oracle; SQLite',\n",
       "       'Cassandra; Redis; MySQL; Oracle',\n",
       "       'MongoDB; Redis; MySQL; Oracle; SQLite',\n",
       "       'Cassandra; Redis; SQL Server; MySQL; PostgreSQL',\n",
       "       'Cassandra; Redis; MySQL; Oracle; SQLite',\n",
       "       'Cassandra; MongoDB; Redis; SQL Server; MySQL; Oracle; SQLite',\n",
       "       'Cassandra; MongoDB; SQL Server; MySQL; SQLite',\n",
       "       'Cassandra; MongoDB; Redis; SQL Server; MySQL',\n",
       "       'Cassandra; Redis; SQL Server; MySQL; PostgreSQL; Oracle; SQLite',\n",
       "       'Cassandra; MongoDB; SQL Server; MySQL; PostgreSQL; SQLite',\n",
       "       'Cassandra; MongoDB; Redis; SQL Server; MySQL; Oracle',\n",
       "       'Cassandra; MongoDB; Redis; SQL Server; SQLite',\n",
       "       'Cassandra; MongoDB; MySQL; Oracle; SQLite',\n",
       "       'Cassandra; Redis; MySQL; PostgreSQL; Oracle',\n",
       "       'Cassandra; MySQL; Oracle; SQLite',\n",
       "       'MongoDB; Redis; PostgreSQL; Oracle; SQLite',\n",
       "       'Cassandra; MongoDB; Redis; SQL Server; MySQL; PostgreSQL',\n",
       "       'Cassandra; MongoDB; SQL Server; MySQL; Oracle; SQLite',\n",
       "       'Redis; Oracle; SQLite',\n",
       "       'Redis; SQL Server; PostgreSQL; Oracle; SQLite',\n",
       "       'Cassandra; MongoDB; Redis; PostgreSQL; Oracle',\n",
       "       'Cassandra; MongoDB; Redis; Oracle; SQLite',\n",
       "       'Cassandra; MongoDB; Redis; Oracle',\n",
       "       'Cassandra; MySQL; PostgreSQL; Oracle',\n",
       "       'Cassandra; MongoDB; Redis; SQL Server; Oracle; SQLite',\n",
       "       'Cassandra; Redis; SQL Server; MySQL; Oracle',\n",
       "       'Cassandra; SQL Server; Oracle; SQLite',\n",
       "       'Cassandra; MongoDB; Redis; PostgreSQL; Oracle; SQLite',\n",
       "       'MongoDB; Redis; Oracle; SQLite',\n",
       "       'Cassandra; Redis; PostgreSQL; Oracle; SQLite',\n",
       "       'Cassandra; MongoDB; Redis; SQL Server; PostgreSQL; Oracle; SQLite',\n",
       "       'MongoDB; Redis; SQL Server; Oracle; SQLite'], dtype=object)"
      ]
     },
     "execution_count": 70,
     "metadata": {},
     "output_type": "execute_result"
    }
   ],
   "source": [
    "df['HaveWorkedDatabase'].unique()"
   ]
  },
  {
   "cell_type": "code",
   "execution_count": null,
   "metadata": {},
   "outputs": [],
   "source": []
  }
 ],
 "metadata": {
  "kernelspec": {
   "display_name": "Python 3",
   "language": "python",
   "name": "python3"
  },
  "language_info": {
   "codemirror_mode": {
    "name": "ipython",
    "version": 3
   },
   "file_extension": ".py",
   "mimetype": "text/x-python",
   "name": "python",
   "nbconvert_exporter": "python",
   "pygments_lexer": "ipython3",
   "version": "3.5.2"
  }
 },
 "nbformat": 4,
 "nbformat_minor": 2
}
